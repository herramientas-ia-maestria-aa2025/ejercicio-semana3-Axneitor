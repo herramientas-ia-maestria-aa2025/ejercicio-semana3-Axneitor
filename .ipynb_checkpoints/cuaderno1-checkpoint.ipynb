{
 "cells": [
  {
   "cell_type": "code",
   "execution_count": null,
   "id": "cf3c5c4a-fcb9-413b-a708-08e728e0cdbc",
   "metadata": {},
   "outputs": [],
   "source": [
    "import panda as pd\n",
    "from faker import Faker\n",
    "import random "
   ]
  },
  {
   "cell_type": "code",
   "execution_count": null,
   "id": "4313c04a-9718-4423-987f-dcc41550b656",
   "metadata": {},
   "outputs": [],
   "source": [
    "fake = Faker()"
   ]
  },
  {
   "cell_type": "code",
   "execution_count": null,
   "id": "50dd6ca6-f1a5-40ef-be3c-cb1e604c8574",
   "metadata": {},
   "outputs": [],
   "source": [
    "provincias = [\"Loja\", \"Pichincha\", \"Guayas\", \"Azuay\", \"Manabí\"]"
   ]
  },
  {
   "cell_type": "code",
   "execution_count": null,
   "id": "b4c30c72-4295-48db-87ec-447d457a294f",
   "metadata": {},
   "outputs": [],
   "source": [
    "datos = []\n",
    "for x in range(10000):\n",
    "    registro = {\n",
    "        'nombre' : fake.first_name(),\n",
    "        'apellido' : fake.last_name(),\n",
    "        'email' : fake.first_mail(),\n",
    "        'direccion' : fake.first_address(),\n",
    "        'edad' : random.randint(30, 40),\n",
    "        'provincia' : random.choice(provincias)\n",
    "    }\n",
    "    datos.append(registro)"
   ]
  },
  {
   "cell_type": "code",
   "execution_count": null,
   "id": "d6ed9cf6-f776-4447-955f-0dc6e7d136b8",
   "metadata": {},
   "outputs": [],
   "source": [
    "df = pd.Dataframe(datos)"
   ]
  },
  {
   "cell_type": "code",
   "execution_count": null,
   "id": "2dc2d085-ab49-49bb-94e4-af845be735c8",
   "metadata": {},
   "outputs": [],
   "source": [
    "df"
   ]
  },
  {
   "cell_type": "code",
   "execution_count": null,
   "id": "72780a44-8e01-4ae0-bfcb-2d5a71a64a39",
   "metadata": {},
   "outputs": [],
   "source": [
    "df.to_csv(\"\", index)"
   ]
  }
 ],
 "metadata": {
  "kernelspec": {
   "display_name": "Python 3 (ipykernel)",
   "language": "python",
   "name": "python3"
  },
  "language_info": {
   "codemirror_mode": {
    "name": "ipython",
    "version": 3
   },
   "file_extension": ".py",
   "mimetype": "text/x-python",
   "name": "python",
   "nbconvert_exporter": "python",
   "pygments_lexer": "ipython3",
   "version": "3.12.10"
  }
 },
 "nbformat": 4,
 "nbformat_minor": 5
}
